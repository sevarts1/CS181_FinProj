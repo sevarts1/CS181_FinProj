{
 "cells": [
  {
   "cell_type": "markdown",
   "metadata": {},
   "source": [
    "## Notebook 1 of 3\n",
    "    by Brett Weicht and Sam Evarts"
   ]
  },
  {
   "cell_type": "code",
   "execution_count": 65,
   "metadata": {
    "collapsed": true
   },
   "outputs": [],
   "source": [
    "import json\n",
    "import requests\n",
    "import io\n",
    "from lxml import etree\n",
    "import lxml.html as lh"
   ]
  },
  {
   "cell_type": "code",
   "execution_count": 66,
   "metadata": {},
   "outputs": [
    {
     "name": "stdout",
     "output_type": "stream",
     "text": [
      "{'appid': '85caf1b7a9d446a8a5eafdad65119ae9', 'appsecret': '5c5724c87415467aa7ad591b010d32b1', 'redirect_uri': 'https://google.com', 'code': 'dbe7e1ab54b046a39de7fd3b52823e07', 'state': 'good2go', 'mytoken': ''}\n"
     ]
    }
   ],
   "source": [
    "with open(\"creds.json\", \"r\") as file:\n",
    "    creds = json.load(file)\n",
    "print(str(creds['instagram']))"
   ]
  },
  {
   "cell_type": "code",
   "execution_count": 67,
   "metadata": {},
   "outputs": [
    {
     "name": "stdout",
     "output_type": "stream",
     "text": [
      "https://api.instagram.com/oauth/authorize/\n"
     ]
    }
   ],
   "source": [
    "proto='https'\n",
    "loc='api.instagram.com'\n",
    "res='/oauth/authorize/'\n",
    "temp = '{}://{}{}'\n",
    "url = temp.format(proto,loc,res)\n",
    "print(url)"
   ]
  },
  {
   "cell_type": "code",
   "execution_count": 68,
   "metadata": {},
   "outputs": [
    {
     "data": {
      "text/plain": [
       "{'client_id': '85caf1b7a9d446a8a5eafdad65119ae9',\n",
       " 'redirect_uri': 'https://google.com',\n",
       " 'response_type': 'CODE',\n",
       " 'state': 'good2go'}"
      ]
     },
     "execution_count": 68,
     "metadata": {},
     "output_type": "execute_result"
    }
   ],
   "source": [
    "creds\n",
    "qdict = {}\n",
    "qdict['client_id'] = creds['instagram']['appid']\n",
    "qdict['redirect_uri'] = creds['instagram']['redirect_uri']\n",
    "qdict['response_type'] = 'CODE'\n",
    "qdict['state'] = creds['instagram']['state']\n",
    "qdict"
   ]
  },
  {
   "cell_type": "code",
   "execution_count": 71,
   "metadata": {},
   "outputs": [
    {
     "name": "stdout",
     "output_type": "stream",
     "text": [
      "https://api.instagram.com/oauth/authorize/?client_id=85caf1b7a9d446a8a5eafdad65119ae9&redirect_uri=https%3A%2F%2Fgoogle.com&response_type=CODE&state=good2go\n"
     ]
    }
   ],
   "source": [
    "s = requests.Session()\n",
    "r = requests.Request('GET',url,params=qdict).prepare()\n",
    "print(r.url)"
   ]
  },
  {
   "cell_type": "code",
   "execution_count": null,
   "metadata": {
    "collapsed": true
   },
   "outputs": [],
   "source": [
    "codemap = {}\n",
    "uservalue = input(\"Enter a User: \")\n",
    "while uservalue != \"\":\n",
    "    codevalue = input(\"Enter Code for {}: \".format(uservalue))\n",
    "    codemap[uservalue] = codevalue\n",
    "    \n",
    "    uservalue = input(\"Enter a User: \")\n",
    "codemap"
   ]
  },
  {
   "cell_type": "code",
   "execution_count": 80,
   "metadata": {},
   "outputs": [
    {
     "name": "stdout",
     "output_type": "stream",
     "text": [
      "{'appid': '85caf1b7a9d446a8a5eafdad65119ae9', 'appsecret': '5c5724c87415467aa7ad591b010d32b1', 'redirect_uri': 'https://google.com', 'code': '1762d5586e3f47a184e9a4d00db1ace0', 'state': 'good2go', 'mytoken': ''}\n"
     ]
    }
   ],
   "source": [
    "with open(\"creds.json\", \"r\") as file:\n",
    "    creds = json.load(file)\n",
    "print(str(creds['instagram']))"
   ]
  },
  {
   "cell_type": "code",
   "execution_count": null,
   "metadata": {
    "collapsed": true
   },
   "outputs": [],
   "source": [
    "with open('creds.json','w') as file:\n",
    "    json.dump(creds,file)"
   ]
  },
  {
   "cell_type": "code",
   "execution_count": 81,
   "metadata": {},
   "outputs": [
    {
     "data": {
      "text/plain": [
       "{'client_id': '85caf1b7a9d446a8a5eafdad65119ae9',\n",
       " 'client_secret': '5c5724c87415467aa7ad591b010d32b1',\n",
       " 'code': '1762d5586e3f47a184e9a4d00db1ace0',\n",
       " 'grant_type': 'authorization_code',\n",
       " 'redirect_uri': 'https://google.com'}"
      ]
     },
     "execution_count": 81,
     "metadata": {},
     "output_type": "execute_result"
    }
   ],
   "source": [
    "url = \"https://api.instagram.com/oauth/access_token\"\n",
    "qdict = {}\n",
    "qdict['client_id'] = creds['instagram']['appid']\n",
    "qdict['client_secret'] = creds['instagram']['appsecret']\n",
    "qdict['redirect_uri'] = creds['instagram']['redirect_uri']\n",
    "qdict['grant_type'] = 'authorization_code'\n",
    "qdict['code'] = creds['instagram']['code']\n",
    "qdict\n",
    "#print(url)"
   ]
  },
  {
   "cell_type": "code",
   "execution_count": 82,
   "metadata": {},
   "outputs": [
    {
     "name": "stdout",
     "output_type": "stream",
     "text": [
      "https://api.instagram.com/oauth/access_token?client_id=85caf1b7a9d446a8a5eafdad65119ae9&client_secret=5c5724c87415467aa7ad591b010d32b1&redirect_uri=https%3A%2F%2Fgoogle.com&grant_type=authorization_code&code=1762d5586e3f47a184e9a4d00db1ace0\n"
     ]
    }
   ],
   "source": [
    "session = requests.Session()\n",
    "p = requests.Request('POST',url,params=qdict).prepare()\n",
    "print(p.url)"
   ]
  },
  {
   "cell_type": "code",
   "execution_count": 84,
   "metadata": {},
   "outputs": [
    {
     "data": {
      "text/plain": [
       "{'code': 400,\n",
       " 'error_message': 'You must provide a client_id',\n",
       " 'error_type': 'OAuthException'}"
      ]
     },
     "execution_count": 84,
     "metadata": {},
     "output_type": "execute_result"
    }
   ],
   "source": [
    "r = requests.post(url)\n",
    "r.json()\n",
    "#data = lh.parse(io.BytesIO(r.content))\n",
    "#root = data.getroot()"
   ]
  },
  {
   "cell_type": "code",
   "execution_count": 62,
   "metadata": {},
   "outputs": [
    {
     "name": "stdout",
     "output_type": "stream",
     "text": [
      "Enter a User: sam\n",
      "Enter Code for sam: dbe7e1ab54b046a39de7fd3b52823e07\n",
      "Enter a User: \n"
     ]
    },
    {
     "data": {
      "text/plain": [
       "{'sam': 'dbe7e1ab54b046a39de7fd3b52823e07'}"
      ]
     },
     "execution_count": 62,
     "metadata": {},
     "output_type": "execute_result"
    }
   ],
   "source": []
  },
  {
   "cell_type": "code",
   "execution_count": 63,
   "metadata": {},
   "outputs": [
    {
     "data": {
      "text/plain": [
       "{'sam': 'dbe7e1ab54b046a39de7fd3b52823e07'}"
      ]
     },
     "execution_count": 63,
     "metadata": {},
     "output_type": "execute_result"
    }
   ],
   "source": []
  }
 ],
 "metadata": {
  "kernelspec": {
   "display_name": "Python 3",
   "language": "python",
   "name": "python3"
  },
  "language_info": {
   "codemirror_mode": {
    "name": "ipython",
    "version": 3
   },
   "file_extension": ".py",
   "mimetype": "text/x-python",
   "name": "python",
   "nbconvert_exporter": "python",
   "pygments_lexer": "ipython3",
   "version": "3.6.3"
  }
 },
 "nbformat": 4,
 "nbformat_minor": 2
}
