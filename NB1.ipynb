{
 "cells": [
  {
   "cell_type": "markdown",
   "metadata": {},
   "source": [
    "## Notebook 1 of 3\n",
    "    by Brett Weicht and Sam Evarts"
   ]
  },
  {
   "cell_type": "code",
   "execution_count": 52,
   "metadata": {
    "collapsed": true
   },
   "outputs": [],
   "source": [
    "import json\n",
    "import requests\n",
    "import io\n",
    "from lxml import etree\n",
    "import lxml.html as lh"
   ]
  },
  {
   "cell_type": "code",
   "execution_count": 44,
   "metadata": {},
   "outputs": [
    {
     "name": "stdout",
     "output_type": "stream",
     "text": [
      "{'appid': '85caf1b7a9d446a8a5eafdad65119ae9', 'appsecret': '5c5724c87415467aa7ad591b010d32b1', 'redirect_uri': 'https://google.com', 'code': 'dbe7e1ab54b046a39de7fd3b52823e07', 'state': 'good2go', 'mytoken': ''}\n"
     ]
    }
   ],
   "source": [
    "with open(\"creds.json\", \"r\") as file:\n",
    "    creds = json.load(file)\n",
    "print(str(creds['instagram']))"
   ]
  },
  {
   "cell_type": "code",
   "execution_count": 45,
   "metadata": {},
   "outputs": [
    {
     "name": "stdout",
     "output_type": "stream",
     "text": [
      "https://api.instagram.com/oauth/authorize/\n"
     ]
    }
   ],
   "source": [
    "proto='https'\n",
    "loc='api.instagram.com'\n",
    "res='/oauth/authorize/'\n",
    "temp = '{}://{}{}'\n",
    "url = temp.format(proto,loc,res)\n",
    "print(url)"
   ]
  },
  {
   "cell_type": "code",
   "execution_count": 46,
   "metadata": {},
   "outputs": [
    {
     "data": {
      "text/plain": [
       "{'client_id': '85caf1b7a9d446a8a5eafdad65119ae9',\n",
       " 'redirect_uri': 'https://google.com',\n",
       " 'response_type': 'CODE',\n",
       " 'state': 'good2go'}"
      ]
     },
     "execution_count": 46,
     "metadata": {},
     "output_type": "execute_result"
    }
   ],
   "source": [
    "creds\n",
    "qdict = {}\n",
    "qdict['client_id'] = creds['instagram']['appid']\n",
    "qdict['redirect_uri'] = creds['instagram']['redirect_uri']\n",
    "qdict['response_type'] = 'CODE'\n",
    "qdict['state'] = creds['instagram']['state']\n",
    "qdict"
   ]
  },
  {
   "cell_type": "code",
   "execution_count": 47,
   "metadata": {},
   "outputs": [
    {
     "name": "stdout",
     "output_type": "stream",
     "text": [
      "https://api.instagram.com/oauth/authorize/?client_id=85caf1b7a9d446a8a5eafdad65119ae9&redirect_uri=https%3A%2F%2Fgoogle.com&response_type=CODE&state=good2go\n"
     ]
    }
   ],
   "source": [
    "s = requests.Session()\n",
    "r = requests.Request('GET',url,params=qdict).prepare()\n",
    "print(r.url)"
   ]
  },
  {
   "cell_type": "code",
   "execution_count": 48,
   "metadata": {},
   "outputs": [
    {
     "name": "stdout",
     "output_type": "stream",
     "text": [
      "{'appid': '85caf1b7a9d446a8a5eafdad65119ae9', 'appsecret': '5c5724c87415467aa7ad591b010d32b1', 'redirect_uri': 'https://google.com', 'code': 'dbe7e1ab54b046a39de7fd3b52823e07', 'state': 'good2go', 'mytoken': ''}\n"
     ]
    }
   ],
   "source": [
    "with open(\"creds.json\", \"r\") as file:\n",
    "    creds = json.load(file)\n",
    "print(str(creds['instagram']))"
   ]
  },
  {
   "cell_type": "code",
   "execution_count": 49,
   "metadata": {},
   "outputs": [
    {
     "name": "stdout",
     "output_type": "stream",
     "text": [
      "https://api.instagram.com/oauth/authorize/\n"
     ]
    }
   ],
   "source": [
    "qdict = {}\n",
    "qdict['client_id'] = creds['instagram']['appid']\n",
    "qdict['client_secret'] = creds['instagram']['appsecret']\n",
    "qdict['redirect_uri'] = creds['instagram']['redirect_uri']\n",
    "qdict['grant_type'] = 'authorization_code'\n",
    "qdict['code'] = creds['instagram']['code']\n",
    "qdict\n",
    "print(url)"
   ]
  },
  {
   "cell_type": "code",
   "execution_count": 55,
   "metadata": {},
   "outputs": [
    {
     "data": {
      "text/plain": [
       "<Element html at 0x10ad359a8>"
      ]
     },
     "execution_count": 55,
     "metadata": {},
     "output_type": "execute_result"
    }
   ],
   "source": [
    "r = requests.post(url,params=qdict)\n",
    "data = lh.parse(io.BytesIO(r.content))\n",
    "root = data.getroot()"
   ]
  },
  {
   "cell_type": "code",
   "execution_count": 61,
   "metadata": {},
   "outputs": [
    {
     "data": {
      "text/plain": [
       "[<Element body at 0x10d820ae8>]"
      ]
     },
     "execution_count": 61,
     "metadata": {},
     "output_type": "execute_result"
    }
   ],
   "source": []
  },
  {
   "cell_type": "code",
   "execution_count": null,
   "metadata": {
    "collapsed": true
   },
   "outputs": [],
   "source": []
  }
 ],
 "metadata": {
  "kernelspec": {
   "display_name": "Python 3",
   "language": "python",
   "name": "python3"
  },
  "language_info": {
   "codemirror_mode": {
    "name": "ipython",
    "version": 3
   },
   "file_extension": ".py",
   "mimetype": "text/x-python",
   "name": "python",
   "nbconvert_exporter": "python",
   "pygments_lexer": "ipython3",
   "version": "3.6.3"
  }
 },
 "nbformat": 4,
 "nbformat_minor": 2
}
