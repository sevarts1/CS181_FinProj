{
 "cells": [
  {
   "cell_type": "markdown",
   "metadata": {},
   "source": [
    "## Notebook 1 of 3\n",
    "    by Brett Weicht and Sam Evarts"
   ]
  },
  {
   "cell_type": "code",
   "execution_count": 26,
   "metadata": {
    "collapsed": true
   },
   "outputs": [],
   "source": [
    "import json\n",
    "import requests\n",
    "import io\n",
    "from lxml import etree\n",
    "import lxml.html as lh"
   ]
  },
  {
   "cell_type": "code",
   "execution_count": 27,
   "metadata": {},
   "outputs": [
    {
     "name": "stdout",
     "output_type": "stream",
     "text": [
      "{'appid': '85caf1b7a9d446a8a5eafdad65119ae9', 'appsecret': '5c5724c87415467aa7ad591b010d32b1', 'redirect_uri': 'https://google.com', 'code': '6e26cf9d456b47baaf9ffeed9adc996f', 'state': 'good2go', 'mytoken': '209826213.85caf1b.adaffe14f9504c16a081fa8ecee5284a', 'NameToken': {'sam': '123'}}\n"
     ]
    }
   ],
   "source": [
    "with open(\"creds.json\", \"r\") as file:\n",
    "    creds = json.load(file)\n",
    "print(str(creds['instagram']))"
   ]
  },
  {
   "cell_type": "code",
   "execution_count": 45,
   "metadata": {},
   "outputs": [
    {
     "name": "stdout",
     "output_type": "stream",
     "text": [
      "https://api.instagram.com/oauth/authorize/\n"
     ]
    }
   ],
   "source": [
    "proto='https'\n",
    "loc='api.instagram.com'\n",
    "res='/oauth/authorize/'\n",
    "temp = '{}://{}{}'\n",
    "url = temp.format(proto,loc,res)\n",
    "print(url)"
   ]
  },
  {
   "cell_type": "code",
   "execution_count": 46,
   "metadata": {},
   "outputs": [
    {
     "data": {
      "text/plain": [
       "{'client_id': '85caf1b7a9d446a8a5eafdad65119ae9',\n",
       " 'redirect_uri': 'https://google.com',\n",
       " 'response_type': 'CODE',\n",
       " 'scope': 'basic public_content',\n",
       " 'state': 'good2go'}"
      ]
     },
     "execution_count": 46,
     "metadata": {},
     "output_type": "execute_result"
    }
   ],
   "source": [
    "creds\n",
    "qdict = {}\n",
    "qdict['client_id'] = creds['instagram']['appid']\n",
    "qdict['redirect_uri'] = creds['instagram']['redirect_uri']\n",
    "qdict['response_type'] = 'CODE'\n",
    "qdict['scope'] = 'basic public_content likes'\n",
    "qdict['state'] = creds['instagram']['state']\n",
    "qdict"
   ]
  },
  {
   "cell_type": "code",
   "execution_count": 47,
   "metadata": {},
   "outputs": [
    {
     "name": "stdout",
     "output_type": "stream",
     "text": [
      "https://api.instagram.com/oauth/authorize/?client_id=85caf1b7a9d446a8a5eafdad65119ae9&redirect_uri=https%3A%2F%2Fgoogle.com&response_type=CODE&scope=basic+public_content&state=good2go\n"
     ]
    }
   ],
   "source": [
    "s = requests.Session()\n",
    "r = requests.Request('GET',url,params=qdict).prepare()\n",
    "print(r.url)"
   ]
  },
  {
   "cell_type": "code",
   "execution_count": 68,
   "metadata": {},
   "outputs": [
    {
     "name": "stdout",
     "output_type": "stream",
     "text": [
      "Enter a User: george\n",
      "Enter Code for george: 552999e46f004a0880ff50f368d4f401\n",
      "Enter a User: \n"
     ]
    },
    {
     "data": {
      "text/plain": [
       "{'george': '552999e46f004a0880ff50f368d4f401'}"
      ]
     },
     "execution_count": 68,
     "metadata": {},
     "output_type": "execute_result"
    }
   ],
   "source": [
    "codemap = {}\n",
    "uservalue = input(\"Enter a User: \")\n",
    "while uservalue != \"\":\n",
    "    codevalue = input(\"Enter Code for {}: \".format(uservalue))\n",
    "    codemap[uservalue] = codevalue\n",
    "    \n",
    "    uservalue = input(\"Enter a User: \")\n",
    "codemap"
   ]
  },
  {
   "cell_type": "code",
   "execution_count": 69,
   "metadata": {},
   "outputs": [],
   "source": [
    "creds['instagram']['NameCode'] = codemap"
   ]
  },
  {
   "cell_type": "code",
   "execution_count": 70,
   "metadata": {
    "collapsed": true
   },
   "outputs": [],
   "source": [
    "with open('creds.json','w') as file:\n",
    "    json.dump(creds,file)"
   ]
  },
  {
   "cell_type": "code",
   "execution_count": 71,
   "metadata": {
    "scrolled": false
   },
   "outputs": [
    {
     "name": "stdout",
     "output_type": "stream",
     "text": [
      "{'appid': '85caf1b7a9d446a8a5eafdad65119ae9', 'appsecret': '5c5724c87415467aa7ad591b010d32b1', 'redirect_uri': 'https://google.com', 'code': 'dd55948a59c54c2f81f9bf077c09bbb1', 'state': 'good2go', 'mytoken': '209826213.85caf1b.adaffe14f9504c16a081fa8ecee5284a', 'NameToken': {'josh': '2113815173.85caf1b.c5dbc3e87a1349cdb26d6c0beebee381', 'noah': '207780754.85caf1b.d45ea394a1d543a6844cf0faf90ffdcc'}, 'NameCode': {'george': '552999e46f004a0880ff50f368d4f401'}}\n"
     ]
    }
   ],
   "source": [
    "with open(\"creds.json\", \"r\") as file:\n",
    "    creds = json.load(file)\n",
    "print(str(creds['instagram']))"
   ]
  },
  {
   "cell_type": "code",
   "execution_count": 72,
   "metadata": {},
   "outputs": [
    {
     "data": {
      "text/plain": [
       "{'client_id': '85caf1b7a9d446a8a5eafdad65119ae9',\n",
       " 'client_secret': '5c5724c87415467aa7ad591b010d32b1',\n",
       " 'grant_type': 'authorization_code',\n",
       " 'redirect_uri': 'https://google.com'}"
      ]
     },
     "execution_count": 72,
     "metadata": {},
     "output_type": "execute_result"
    }
   ],
   "source": [
    "url = \"https://api.instagram.com/oauth/access_token\"\n",
    "qdict = {}\n",
    "qdict['client_id'] = creds['instagram']['appid']\n",
    "qdict['client_secret'] = creds['instagram']['appsecret']\n",
    "qdict['redirect_uri'] = creds['instagram']['redirect_uri']\n",
    "qdict['grant_type'] = 'authorization_code'\n",
    "#qdict['code'] = creds['instagram']['NameCode']['sam']\n",
    "qdict\n",
    "#print(url)"
   ]
  },
  {
   "cell_type": "markdown",
   "metadata": {},
   "source": [
    "**\n",
    "accessing multiple tokens**"
   ]
  },
  {
   "cell_type": "code",
   "execution_count": 73,
   "metadata": {},
   "outputs": [
    {
     "data": {
      "text/plain": [
       "{'george': '2313099241.85caf1b.bb7cd735158d418287725111a84a5513',\n",
       " 'josh': '2113815173.85caf1b.c5dbc3e87a1349cdb26d6c0beebee381',\n",
       " 'noah': '207780754.85caf1b.d45ea394a1d543a6844cf0faf90ffdcc'}"
      ]
     },
     "execution_count": 73,
     "metadata": {},
     "output_type": "execute_result"
    }
   ],
   "source": [
    "protocol = \"https\"\n",
    "location = \"api.instagram.com\"\n",
    "auth_resource = \"/oauth/access_token\"\n",
    "\n",
    "access_fmt = \"{}://{}{}\"\n",
    "accessurl = access_fmt.format(protocol, location, auth_resource)\n",
    "\n",
    "qdict = {}\n",
    "qdict['client_id'] = creds['instagram']['appid']\n",
    "qdict['client_secret'] = creds['instagram']['appsecret']\n",
    "qdict['redirect_uri'] = creds['instagram']['redirect_uri']\n",
    "qdict['grant_type'] = 'authorization_code'\n",
    "\n",
    "headerD = {'Accept': 'application/json'}\n",
    "\n",
    "#tokenmap = {}\n",
    "for user, code in codemap.items():\n",
    "    qdict['code'] = code\n",
    "    resp = requests.post(accessurl, headers=headerD, data=qdict)\n",
    "    if resp.status_code == 200:\n",
    "        retval = resp.json()\n",
    "        if 'access_token' in retval:\n",
    "            tokenmap[user] = retval['access_token']\n",
    "        else:\n",
    "            print('No access token found in result:', str(retval))\n",
    "    else:\n",
    "        print(\"HTTP error on exhange of code for token\", str(resp.status_code), str(resp.text))\n",
    "\n",
    "tokenmap"
   ]
  },
  {
   "cell_type": "code",
   "execution_count": 66,
   "metadata": {
    "collapsed": true
   },
   "outputs": [],
   "source": [
    "creds['instagram']['NameToken'] = tokenmap\n",
    "with open('creds.json','w') as file:\n",
    "    json.dump(creds,file)"
   ]
  },
  {
   "cell_type": "code",
   "execution_count": 67,
   "metadata": {},
   "outputs": [
    {
     "name": "stdout",
     "output_type": "stream",
     "text": [
      "{'appid': '85caf1b7a9d446a8a5eafdad65119ae9', 'appsecret': '5c5724c87415467aa7ad591b010d32b1', 'redirect_uri': 'https://google.com', 'code': 'dd55948a59c54c2f81f9bf077c09bbb1', 'state': 'good2go', 'mytoken': '209826213.85caf1b.adaffe14f9504c16a081fa8ecee5284a', 'NameToken': {'josh': '2113815173.85caf1b.c5dbc3e87a1349cdb26d6c0beebee381', 'noah': '207780754.85caf1b.d45ea394a1d543a6844cf0faf90ffdcc'}, 'NameCode': {'josh': 'edf70fecbd0a42f88b10b77c9e051c2a', 'noah': '9556a51b1df9486896a0c2891fa73ed4'}}\n"
     ]
    }
   ],
   "source": [
    "with open(\"creds.json\", \"r\") as file:\n",
    "    creds = json.load(file)\n",
    "print(str(creds['instagram']))"
   ]
  },
  {
   "cell_type": "code",
   "execution_count": 57,
   "metadata": {},
   "outputs": [
    {
     "data": {
      "text/plain": [
       "{'code': 400,\n",
       " 'error_message': 'Matching code was not found or was already used.',\n",
       " 'error_type': 'OAuthException'}"
      ]
     },
     "execution_count": 57,
     "metadata": {},
     "output_type": "execute_result"
    }
   ],
   "source": [
    "r = requests.post(accessurl,data=qdict)\n",
    "r.json()"
   ]
  },
  {
   "cell_type": "code",
   "execution_count": 40,
   "metadata": {},
   "outputs": [],
   "source": [
    "url = \"https://api.instagram.com/v1/tags/nofilter/media/recent?access_token=209826213.85caf1b.adaffe14f9504c16a081fa8ecee5284a\"\n",
    "\n",
    "r = requests.get(url)"
   ]
  },
  {
   "cell_type": "code",
   "execution_count": 21,
   "metadata": {},
   "outputs": [
    {
     "data": {
      "text/plain": [
       "'209826213.85caf1b.adaffe14f9504c16a081fa8ecee5284a'"
      ]
     },
     "execution_count": 21,
     "metadata": {},
     "output_type": "execute_result"
    }
   ],
   "source": [
    "creds['instagram']['token']"
   ]
  },
  {
   "cell_type": "code",
   "execution_count": 41,
   "metadata": {},
   "outputs": [
    {
     "data": {
      "text/plain": [
       "{'data': [],\n",
       " 'meta': {'code': 200},\n",
       " 'pagination': {'deprecation_warning': 'next_max_id and min_id are deprecated for this endpoint; use min_tag_id and max_tag_id instead'}}"
      ]
     },
     "execution_count": 41,
     "metadata": {},
     "output_type": "execute_result"
    }
   ],
   "source": [
    "r.json()"
   ]
  },
  {
   "cell_type": "code",
   "execution_count": 65,
   "metadata": {},
   "outputs": [
    {
     "data": {
      "text/plain": [
       "{'NameToken': {'josh': '2113815173.85caf1b.c5dbc3e87a1349cdb26d6c0beebee381',\n",
       "  'noah': '207780754.85caf1b.d45ea394a1d543a6844cf0faf90ffdcc'},\n",
       " 'instagram': {'NameCode': {'josh': 'edf70fecbd0a42f88b10b77c9e051c2a',\n",
       "   'noah': '9556a51b1df9486896a0c2891fa73ed4'},\n",
       "  'NameToken': {'sam': '120e2cc7a362452fada4986244f69a2c'},\n",
       "  'appid': '85caf1b7a9d446a8a5eafdad65119ae9',\n",
       "  'appsecret': '5c5724c87415467aa7ad591b010d32b1',\n",
       "  'code': 'dd55948a59c54c2f81f9bf077c09bbb1',\n",
       "  'mytoken': '209826213.85caf1b.adaffe14f9504c16a081fa8ecee5284a',\n",
       "  'redirect_uri': 'https://google.com',\n",
       "  'state': 'good2go'}}"
      ]
     },
     "execution_count": 65,
     "metadata": {},
     "output_type": "execute_result"
    }
   ],
   "source": [
    "creds"
   ]
  },
  {
   "cell_type": "code",
   "execution_count": null,
   "metadata": {
    "collapsed": true
   },
   "outputs": [],
   "source": []
  }
 ],
 "metadata": {
  "kernelspec": {
   "display_name": "Python 3",
   "language": "python",
   "name": "python3"
  },
  "language_info": {
   "codemirror_mode": {
    "name": "ipython",
    "version": 3
   },
   "file_extension": ".py",
   "mimetype": "text/x-python",
   "name": "python",
   "nbconvert_exporter": "python",
   "pygments_lexer": "ipython3",
   "version": "3.6.3"
  }
 },
 "nbformat": 4,
 "nbformat_minor": 2
}
