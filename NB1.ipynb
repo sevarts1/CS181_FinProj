{
 "cells": [
  {
   "cell_type": "markdown",
   "metadata": {},
   "source": [
    "## Notebook 1 of 3\n",
    "    by Brett Weicht and Sam Evarts"
   ]
  },
  {
   "cell_type": "code",
   "execution_count": 1,
   "metadata": {
    "collapsed": true
   },
   "outputs": [],
   "source": [
    "import json\n",
    "import requests"
   ]
  },
  {
   "cell_type": "code",
   "execution_count": 22,
   "metadata": {},
   "outputs": [
    {
     "name": "stdout",
     "output_type": "stream",
     "text": [
      "{'appid': '85caf1b7a9d446a8a5eafdad65119ae9', 'appsecret': '5c5724c87415467aa7ad591b010d32b1', 'redirect_uri': 'https://google.com', 'code': '', 'state': 'good2go', 'mytoken': ''}\n"
     ]
    }
   ],
   "source": [
    "with open(\"creds.json\", \"r\") as file:\n",
    "    creds = json.load(file)\n",
    "print(str(creds['instagram']))"
   ]
  },
  {
   "cell_type": "code",
   "execution_count": 23,
   "metadata": {},
   "outputs": [
    {
     "name": "stdout",
     "output_type": "stream",
     "text": [
      "https://api.instagram.com/oauth/authorize/\n"
     ]
    }
   ],
   "source": [
    "proto='https'\n",
    "loc='api.instagram.com'\n",
    "res='/oauth/authorize/'\n",
    "temp = '{}://{}{}'\n",
    "url = temp.format(proto,loc,res)\n",
    "print(url)"
   ]
  },
  {
   "cell_type": "code",
   "execution_count": 24,
   "metadata": {},
   "outputs": [
    {
     "data": {
      "text/plain": [
       "{'client_id': '85caf1b7a9d446a8a5eafdad65119ae9',\n",
       " 'redirect_uri': 'https://google.com',\n",
       " 'response_type': 'CODE',\n",
       " 'state': 'good2go'}"
      ]
     },
     "execution_count": 24,
     "metadata": {},
     "output_type": "execute_result"
    }
   ],
   "source": [
    "creds\n",
    "qdict = {}\n",
    "qdict['client_id'] = creds['instagram']['appid']\n",
    "qdict['redirect_uri'] = creds['instagram']['redirect_uri']\n",
    "qdict['response_type'] = 'CODE'\n",
    "qdict['state'] = creds['instagram']['state']\n",
    "qdict"
   ]
  },
  {
   "cell_type": "code",
   "execution_count": 25,
   "metadata": {},
   "outputs": [
    {
     "name": "stdout",
     "output_type": "stream",
     "text": [
      "https://api.instagram.com/oauth/authorize/?client_id=85caf1b7a9d446a8a5eafdad65119ae9&redirect_uri=https%3A%2F%2Fgoogle.com&response_type=CODE&state=good2go\n"
     ]
    }
   ],
   "source": [
    "s = requests.Session()\n",
    "r = requests.Request('GET',url,params=qdict).prepare()\n",
    "print(r.url)"
   ]
  },
  {
   "cell_type": "code",
   "execution_count": 28,
   "metadata": {},
   "outputs": [
    {
     "name": "stdout",
     "output_type": "stream",
     "text": [
      "{'appid': '85caf1b7a9d446a8a5eafdad65119ae9', 'appsecret': '5c5724c87415467aa7ad591b010d32b1', 'redirect_uri': 'https://google.com', 'code': 'dbe7e1ab54b046a39de7fd3b52823e07', 'state': 'good2go', 'mytoken': ''}\n"
     ]
    }
   ],
   "source": [
    "with open(\"creds.json\", \"r\") as file:\n",
    "    creds = json.load(file)\n",
    "print(str(creds['instagram']))"
   ]
  },
  {
   "cell_type": "code",
   "execution_count": 33,
   "metadata": {},
   "outputs": [
    {
     "name": "stdout",
     "output_type": "stream",
     "text": [
      "https://api.instagram.com/oauth/authorize/\n"
     ]
    }
   ],
   "source": [
    "qdict = {}\n",
    "qdict['client_id'] = creds['instagram']['appid']\n",
    "qdict['client_secret'] = creds['instagram']['appsecret']\n",
    "qdict['redirect_uri'] = creds['instagram']['redirect_uri']\n",
    "qdict['grant_type'] = 'authorization_code'\n",
    "qdict['code'] = creds['instagram']['code']\n",
    "qdict\n",
    "print(url)"
   ]
  },
  {
   "cell_type": "code",
   "execution_count": 42,
   "metadata": {},
   "outputs": [
    {
     "data": {
      "text/plain": [
       "b'<!DOCTYPE html>\\n<html lang=\"en\" class=\"no-js not-logged-in \">\\n    <head><meta charset=\"utf-8\">\\n        <meta http-equiv=\"X-UA-Compatible\" content=\"IE=edge\">\\n\\n        <title>Log in &mdash; Instagram</title>\\n\\n        \\n        <meta name=\"robots\" content=\"noindex, noimageindex, noarchive\">\\n        <meta name=\"mobile-web-app-capable\" content=\"yes\">\\n        <meta name=\"theme-color\" content=\"#000000\">\\n        <meta id=\"viewport\" name=\"viewport\" content=\"width=device-width, user-scalable=no, initial-scale=1, minimum-scale=1, maximum-scale=1, viewport-fit=cover\">\\n        \\n\\n        <link rel=\"manifest\" href=\"/data/manifest.json\">\\n\\n        \\n\\n        \\n        \\n\\n        <script type=\"text/javascript\">\\n        (function() {\\n            var docElement = document.documentElement;\\n            var classRE = new RegExp(\\'(^|\\\\\\\\s)no-js(\\\\\\\\s|$)\\');\\n            var className = docElement.className;\\n            docElement.className = className.replace(classRE, \\'$1js$2\\');\\n        })();\\n        </script>\\n        <script type=\"text/javascript\">\\n        (function() {\\n          if (\\'PerformanceObserver\\' in window && \\'PerformancePaintTiming\\' in window) {\\n            window.__bufferedPerformance = [];\\n            var ob = new PerformanceObserver(function(e) {\\n              window.__bufferedPerformance.push.apply(window.__bufferedPerformance,e.getEntries());\\n            });\\n            ob.observe({entryTypes:[\\'paint\\']});\\n          }\\n          window.__bufferedErrors = [];\\n          window.onerror = function(message, url, line, column, error) {\\n            window.__bufferedErrors.push({\\n              message: message,\\n              url: url,\\n              line: line,\\n              column: column,\\n              error: error\\n            });\\n            return false;\\n          };\\n        })();\\n        </script>\\n   \\n                <link rel=\"apple-touch-icon-precomposed\" sizes=\"76x76\" href=\"/static/images/ico/apple-touch-icon-76x76-precomposed.png/932e4d9af891.png\">\\n                <link rel=\"apple-touch-icon-precomposed\" sizes=\"120x120\" href=\"/static/images/ico/apple-touch-icon-120x120-precomposed.png/004705c9353f.png\">\\n                <link rel=\"apple-touch-icon-precomposed\" sizes=\"152x152\" href=\"/static/images/ico/apple-touch-icon-152x152-precomposed.png/82467bc9bcce.png\">\\n                <link rel=\"apple-touch-icon-precomposed\" sizes=\"167x167\" href=\"/static/images/ico/apple-touch-icon-167x167-precomposed.png/515cb4eeeeee.png\">\\n                <link rel=\"apple-touch-icon-precomposed\" sizes=\"180x180\" href=\"/static/images/ico/apple-touch-icon-180x180-precomposed.png/94fd767f257b.png\">\\n                \\n                    <link rel=\"icon\" sizes=\"192x192\" href=\"/static/images/ico/favicon-192.png/b407fa101800.png\">\\n                \\n            \\n            \\n                    <link rel=\"mask-icon\" href=\"/static/images/ico/favicon.svg/9d8680ab8a3c.svg\" color=\"#262626\">\\n                  \\n                  <link rel=\"shortcut icon\" type=\"image/x-icon\" href=\"/static/images/ico/favicon.ico/dfa85bb1fd63.ico\">\\n                \\n            \\n            \\n    <link rel=\"stylesheet\" type=\"text/css\" href=\"/static/styles/distillery/dialog-main.css/6446302f45ef.css\"></link>\\n    <!--[if lt IE 9]>\\n    <style>\\n        .dialog-outer {\\n            min-height: 0;\\n        }\\n    </style>\\n    <![endif]-->\\n\\n            \\n<script type=\"text/javascript\" src=\"/static/scripts/jquery.js/213ba890e802.js\" crossorigin=\"anonymous\"></script>\\n<script type=\"text/javascript\" src=\"/static/scripts/bluebar.js/57733d51aed5.js\" crossorigin=\"anonymous\"></script>\\n<script type=\"text/javascript\">\\n    $(document).ready(function() {\\n        $(\"#id_username\").focus();\\n    });\\n</script>\\n\\n   <link rel=\"canonical\" href=\"https://www.instagram.com/accounts/login/\" />\\n</head>\\n    <body class=\"p-dialog oauth-login\">\\n        \\n            <div class=\"root -cx-PRIVATE-Page__root\">\\n                \\n<section class=\"dialog-outer\">\\n    <div class=\"dialog\">\\n        <header>\\n            <h1 class=\"logo\">Instagram</h1>\\n        </header>\\n        <div class=\"dialog-main\">\\n            \\n\\n\\n\\n\\n\\n\\n<form method=\"POST\" id=\"login-form\" class=\"adjacent\" action=\"/accounts/login/?force_classic_login=&amp;client_id=85caf1b7a9d446a8a5eafdad65119ae9&amp;next=/oauth/authorize/%3Fclient_id%3D85caf1b7a9d446a8a5eafdad65119ae9%26client_secret%3D5c5724c87415467aa7ad591b010d32b1%26redirect_uri%3Dhttps%3A//google.com%26grant_type%3Dauthorization_code%26code%3Ddbe7e1ab54b046a39de7fd3b52823e07\">\\n    <input type=\"hidden\" name=\"csrfmiddlewaretoken\" value=\"QqVoobSgJZJRHKMF7B32rOZIIIqIoCCj\"/>\\n    <p><label for=\"id_username\">Username:</label> <input autocapitalize=\"off\" autocorrect=\"off\" id=\"id_username\" maxlength=\"75\" name=\"username\" type=\"text\" /></p>\\n<p><label for=\"id_password\">Password:</label> <input autocapitalize=\"off\" autocorrect=\"off\" id=\"id_password\" name=\"password\" type=\"password\" /></p>\\n    <p class=\"form-actions\">\\n        <a href=\"/accounts/password/reset/\">Forgot password?</a>\\n        <input type=\"submit\" class=\"button-green\" value=\"Log in\" />\\n    </p>\\n</form>\\n\\n<script>\\n    $(window).load(\\n        function() {\\n            $(\"#id_username\").focus();\\n        }\\n    );\\n</script>\\n        </div>\\n    </div>\\n</section>\\n\\n                <div id=\"reactModalMountPoint\"></div>\\n            </div> <!-- .root -->\\n        \\n        \\n\\n        \\n            <script type=\"text/javascript\">window._sharedData = {\"activity_counts\":null,\"config\":{\"csrf_token\":\"QqVoobSgJZJRHKMF7B32rOZIIIqIoCCj\",\"viewer\":null},\"supports_es6\":false,\"country_code\":\"US\",\"language_code\":\"en\",\"locale\":\"en_US\",\"entry_data\":{},\"gatekeepers\":{\"ld\":true,\"seo\":true,\"seoht\":true},\"knobs\":{\"acct:ntb\":0,\"cb\":1},\"qe\":{\"dash_for_vod\":{\"g\":\"\",\"p\":{}},\"aysf\":{\"g\":\"\",\"p\":{}},\"bc3l\":{\"g\":\"\",\"p\":{}},\"comment_reporting\":{\"g\":\"\",\"p\":{}},\"direct_conversation_reporting\":{\"g\":\"\",\"p\":{}},\"direct_reporting\":{\"g\":\"\",\"p\":{}},\"reporting\":{\"g\":\"\",\"p\":{}},\"media_reporting\":{\"g\":\"\",\"p\":{}},\"acc_recovery_link\":{\"g\":\"\",\"p\":{}},\"notif\":{\"g\":\"\",\"p\":{}},\"drct_nav\":{\"g\":\"\",\"p\":{}},\"pl_pivot_li\":{\"g\":\"\",\"p\":{}},\"pl_pivot_lo\":{\"g\":\"\",\"p\":{}},\"404_as_react\":{\"g\":\"\",\"p\":{}},\"acc_recovery\":{\"g\":\"\",\"p\":{}},\"client_gql\":{\"g\":\"\",\"p\":{}},\"collections\":{\"g\":\"\",\"p\":{}},\"comment_ta\":{\"g\":\"\",\"p\":{}},\"connections\":{\"g\":\"\",\"p\":{}},\"disc_ppl\":{\"g\":\"\",\"p\":{}},\"embeds\":{\"g\":\"\",\"p\":{}},\"ebdsim_li\":{\"g\":\"\",\"p\":{}},\"ebdsim_lo\":{\"g\":\"\",\"p\":{}},\"es6\":{\"g\":\"\",\"p\":{}},\"exit_story_creation\":{\"g\":\"\",\"p\":{}},\"fs\":{\"g\":\"\",\"p\":{}},\"gdpr_logged_out\":{\"g\":\"\",\"p\":{}},\"appsell\":{\"g\":\"\",\"p\":{}},\"imgopt\":{\"g\":\"\",\"p\":{}},\"follow_button\":{\"g\":\"\",\"p\":{}},\"loggedout\":{\"g\":\"launch\",\"p\":{\"new_cta\":\"true\",\"remove_upsell_banner\":\"true\",\"update_nav\":\"true\"}},\"loggedout_upsell\":{\"g\":\"test_with_new_loggedout_upsell_content_03_15_18\",\"p\":{\"has_new_loggedout_upsell_content\":\"true\"}},\"us_li\":{\"g\":\"\",\"p\":{}},\"msisdn\":{\"g\":\"\",\"p\":{}},\"bg_sync\":{\"g\":\"\",\"p\":{}},\"onetaplogin\":{\"g\":\"\",\"p\":{}},\"onetaplogin_userbased\":{\"g\":\"\",\"p\":{}},\"login_poe\":{\"g\":\"\",\"p\":{}},\"prvcy_tggl\":{\"g\":\"\",\"p\":{}},\"private_lo\":{\"g\":\"\",\"p\":{}},\"profile_photo_nux_fbc_v2\":{\"g\":\"\",\"p\":{}},\"push_notifications\":{\"g\":\"\",\"p\":{}},\"reg\":{\"g\":\"\",\"p\":{}},\"reg_vp\":{\"g\":\"\",\"p\":{}},\"feed_vp\":{\"g\":\"\",\"p\":{}},\"report_haf\":{\"g\":\"\",\"p\":{}},\"report_media\":{\"g\":\"\",\"p\":{}},\"report_profile\":{\"g\":\"\",\"p\":{}},\"save\":{\"g\":\"\",\"p\":{}},\"sidecar\":{\"g\":\"\",\"p\":{}},\"su_universe\":{\"g\":\"test_login_autocomplete\",\"p\":{\"use_autocomplete_login\":\"true\"}},\"stale\":{\"g\":\"\",\"p\":{}},\"stories_lo\":{\"g\":\"test_03_15\",\"p\":{\"stories_profile\":\"true\"}},\"stories\":{\"g\":\"\",\"p\":{}},\"tp_pblshr\":{\"g\":\"\",\"p\":{}},\"video\":{\"g\":\"\",\"p\":{}},\"gdpr_settings\":{\"g\":\"\",\"p\":{}},\"gdpr_eu_tos\":{\"g\":\"\",\"p\":{}},\"gdpr_row_tos\":{\"g\":\"\",\"p\":{}}},\"hostname\":\"www.instagram.com\",\"display_properties_server_guess\":{\"pixel_ratio\":1.5,\"viewport_width\":360,\"viewport_height\":480,\"orientation\":\"\"},\"environment_switcher_visible_server_guess\":true,\"platform\":\"web\",\"rhx_gis\":\"fc2e73d4fd7dddcd31d28bea5cb2df59\",\"nonce\":\"/QwOpfB3kLiA90IwHz1zqQ==\",\"is_bot\":false,\"zero_data\":{},\"rollout_hash\":\"c9593cdd6996-hot\",\"bundle_variant\":\"base\",\"probably_has_app\":false,\"show_app_install\":true};</script>\\n            <script type=\"text/javascript\" src=\"/static/bundles/base/Polyfills.js/9b36f184e49e.js\" crossorigin=\"anonymous\"></script>\\n            <script type=\"text/javascript\" src=\"/static/bundles/base/Vendor.js/0b34a2e2f7c2.js\" crossorigin=\"anonymous\"></script>\\n<script type=\"text/javascript\">!function(e){var a=window.webpackJsonp;window.webpackJsonp=function(n,r,i){for(var c,d,s,b=0,f=[];b<n.length;b++)d=n[b],o[d]&&f.push(o[d][0]),o[d]=0;for(c in r)Object.prototype.hasOwnProperty.call(r,c)&&(e[c]=r[c]);for(a&&a(n,r,i);f.length;)f.shift()();if(i)for(b=0;b<i.length;b++)s=t(t.s=i[b]);return s};var n={},o={63:0};function t(a){if(n[a])return n[a].exports;var o=n[a]={i:a,l:!1,exports:{}};return e[a].call(o.exports,o,o.exports,t),o.l=!0,o.exports}t.e=function(e){var a=o[e];if(0===a)return new Promise(function(e){e()});if(a)return a[2];var n=new Promise(function(n,t){a=o[e]=[n,t]});a[2]=n;var r=document.getElementsByTagName(\"head\")[0],i=document.createElement(\"script\");i.type=\"text/javascript\",i.charset=\"utf-8\",i.async=!0,i.timeout=12e4,i.crossOrigin=\"anonymous\",t.nc&&i.setAttribute(\"nonce\",t.nc),i.src=t.p+\"\"+({0:\"SettingsModules\",1:\"ProfilePageContainer\",2:\"LikedByListContainer\",3:\"FollowListContainer\",4:\"CreationModules\",5:\"LocationPageContainer\",6:\"DiscoverMediaPageContainer\",7:\"DiscoverEmbedsPageContainer\",8:\"TagPageContainer\",9:\"UserCollectionMediaPageContainer\",10:\"DebugInfoNub\",11:\"FeedPageContainer\",12:\"PostPageContainer\",13:\"LandingPage\",14:\"LoginAndSignupPage\",15:\"ResetPasswordPageContainer\",16:\"FBSignupPage\",17:\"MobileStoriesPage\",18:\"DesktopStoriesPage\",19:\"NewUserInterstitial\",20:\"DirectInboxPageContainer\",21:\"DiscoverPeoplePageContainer\",22:\"IGTVVideoUploadPage\",23:\"UserCollectionsPageContainer\",24:\"DataDownloadRequestPage\",25:\"MultiStepSignupPage\",26:\"ContactHistoryPage\",27:\"AccessToolViewAllPage\",28:\"AccessToolPage\",29:\"DataDownloadRequestConfirmPage\",30:\"DataControlsSupportPage\",31:\"EmailConfirmationPage\",32:\"LocationsDirectoryLandingPage\",33:\"LocationsDirectoryCountryPage\",34:\"LocationsDirectoryCityPage\",35:\"SuggestedDirectoryLandingPage\",36:\"ProfilesDirectoryLandingPage\",37:\"HashtagsDirectoryLandingPage\",38:\"OAuthPermissionsPage\",39:\"DirectoryPage\",40:\"HttpErrorPage\",41:\"ActivityFeedPage\",42:\"StoryCreationPage\",43:\"ParentalConsentPage\",44:\"ParentalConsentNotParentPage\",45:\"NewTermsConfirmPage\",46:\"CheckpointUnderageAppealPage\",47:\"AccountPrivacyBugPage\",48:\"ContactInvitesOptOutPage\",49:\"ContactInvitesOptOutStatusPage\",50:\"Report\",51:\"Copyright\",52:\"SupportInfo\",53:\"Community\",54:\"GenericSurvey\",55:\"Challenge\",56:\"Consumer\",57:\"EmailSnoozePage\",58:\"EmailUnsubscribePage\",59:\"ConfirmFollowDialog\",60:\"NotificationLandingPage\"}[e]||e)+\".js/\"+{0:\"c36e3a5ee464\",1:\"0814c439b41a\",2:\"31a520d6c0e7\",3:\"855bc4fef3c5\",4:\"42bb53c84d74\",5:\"d429e5ccd156\",6:\"537d0a411a06\",7:\"919df8edb45f\",8:\"d304cdaaeb9c\",9:\"dba0948eee57\",10:\"2d05171f9bf4\",11:\"b570a3ad4662\",12:\"eb1daea92980\",13:\"8273dc84c37c\",14:\"1b7e80543ae8\",15:\"2c43889d1209\",16:\"e04929e02db7\",17:\"1162b272cd93\",18:\"801a08d84074\",19:\"8a6882f3f7bb\",20:\"8782e31105a6\",21:\"76bbe0b34c51\",22:\"b58918f96592\",23:\"845a44fd9d23\",24:\"172659813e49\",25:\"d964b113e68e\",26:\"ec9168a9d8fc\",27:\"2b75ede6e4e1\",28:\"70da0b9bfb89\",29:\"fa39c707ce7d\",30:\"bab90f4751d5\",31:\"28cb03d673b4\",32:\"690749fc7bf4\",33:\"bfbf5db4bc79\",34:\"516e9ac3b627\",35:\"b206fb59b626\",36:\"984371b8d8e9\",37:\"e3b1d6cf69b1\",38:\"90841cf16e5f\",39:\"b429ef1d1ec5\",40:\"4b98f3e644fe\",41:\"8d00b599ec5b\",42:\"ddef6a7a56bc\",43:\"6a83ee946860\",44:\"06e06fdb560c\",45:\"db6e36bc1d7a\",46:\"633141eb0e1a\",47:\"f2a8d7c020bc\",48:\"c76cfd031063\",49:\"db9b6bf27a01\",50:\"7d016fa22e13\",51:\"e5a9d69e37b0\",52:\"c73e753d92d7\",53:\"fd903adbf5eb\",54:\"b2f4fd4c38ff\",55:\"f519d6b5777f\",56:\"2cb786308f95\",57:\"990949235a01\",58:\"4208599a355f\",59:\"503e6008deb2\",60:\"b29880a98ad2\"}[e]+\".js\";var c=setTimeout(d,12e4);function d(){i.onerror=i.onload=null,clearTimeout(c);var a=o[e];0!==a&&(a&&a[1](new Error(\"Loading chunk \"+e+\" failed.\")),o[e]=void 0)}return i.onerror=i.onload=d,r.appendChild(i),n},t.m=e,t.c=n,t.d=function(e,a,n){t.o(e,a)||Object.defineProperty(e,a,{configurable:!1,enumerable:!0,get:n})},t.n=function(e){var a=e&&e.__esModule?function(){return e.default}:function(){return e};return t.d(a,\"a\",a),a},t.o=function(e,a){return Object.prototype.hasOwnProperty.call(e,a)},t.p=\"/static/bundles/base/\",t.oe=function(e){throw console.error(e),e}}([]);</script>\\n            <script type=\"text/javascript\" src=\"/static/bundles/base/en_US.js/ae124f06c2f7.js\" crossorigin=\"anonymous\"></script>\\n\\n            \\n<script>\\n!function(f,b,e,v,n,t,s){if(f.fbq)return;n=f.fbq=function(){n.callMethod?\\nn.callMethod.apply(n,arguments):n.queue.push(arguments)};if(!f._fbq)f._fbq=n;\\nn.push=n;n.loaded=!0;n.version=\\'2.0\\';n.queue=[];t=b.createElement(e);t.async=!0;\\nt.src=v;s=b.getElementsByTagName(e)[0];s.parentNode.insertBefore(t,s)}(window,\\ndocument,\\'script\\',\\'//connect.facebook.net/en_US/fbevents.js\\');\\n\\nfbq(\\'init\\', \\'1425767024389221\\');\\n\\nfbq(\\'track\\', \\'PageView\\');\\n\\n\\n</script>\\n<noscript>\\n\\n\\n</noscript>\\n\\n            \\n        \\n    </body>\\n</html>'"
      ]
     },
     "execution_count": 42,
     "metadata": {},
     "output_type": "execute_result"
    }
   ],
   "source": [
    "r = requests.post(url,params=qdict)s"
   ]
  },
  {
   "cell_type": "code",
   "execution_count": null,
   "metadata": {
    "collapsed": true
   },
   "outputs": [],
   "source": []
  }
 ],
 "metadata": {
  "kernelspec": {
   "display_name": "Python 3",
   "language": "python",
   "name": "python3"
  },
  "language_info": {
   "codemirror_mode": {
    "name": "ipython",
    "version": 3
   },
   "file_extension": ".py",
   "mimetype": "text/x-python",
   "name": "python",
   "nbconvert_exporter": "python",
   "pygments_lexer": "ipython3",
   "version": "3.6.3"
  }
 },
 "nbformat": 4,
 "nbformat_minor": 2
}
